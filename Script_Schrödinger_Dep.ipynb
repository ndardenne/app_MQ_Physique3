{
 "cells": [
  {
   "cell_type": "code",
   "execution_count": 1,
   "metadata": {},
   "outputs": [],
   "source": [
    "%matplotlib inline"
   ]
  },
  {
   "cell_type": "code",
   "execution_count": 11,
   "metadata": {},
   "outputs": [],
   "source": [
    "# needed libraries\n",
    "import warnings\n",
    "warnings.simplefilter(\"ignore\")\n",
    "\n",
    "import numpy as np\n",
    "\n",
    "from IPython.display import display, clear_output\n",
    "\n",
    "import math\n",
    "import numpy\n",
    "import scipy\n",
    "import cmath\n",
    "import time\n",
    "import pandas as pd\n",
    "\n",
    "from scipy import integrate\n",
    "\n",
    "import matplotlib.pyplot as plt\n",
    "\n",
    "import ipywidgets as widgets\n",
    "\n",
    "import matplotlib.pylab as pylab\n",
    "params = {'legend.fontsize': 'x-large',\n",
    "          'figure.figsize': (8, 6),\n",
    "         'axes.labelsize': 'x-large',\n",
    "         'axes.titlesize':'x-large',\n",
    "         'xtick.labelsize':'x-large',\n",
    "         'ytick.labelsize':'x-large'}\n",
    "pylab.rcParams.update(params)\n",
    "\n"
   ]
  },
  {
   "cell_type": "code",
   "execution_count": 3,
   "metadata": {},
   "outputs": [],
   "source": [
    "# A) Initialisation des variables  \n",
    "\n",
    "# 1. Constantes physiques (NIST)\n",
    "h    = 6.626068e-34  # [J.S]      Planck constant\n",
    "heV  = 4.135667e-15  # [eV.s]     Planck constant\n",
    "hb   = h/(2*math.pi)      # [J.s]      h barre\n",
    "hbeV = heV/(2*math.pi)    # [eV.s]     h barre\n",
    "me   = 9.109381e-31  # [kg]       electron mass\n",
    "q    = 1.6021764e-19 # [C]        electron charge\n",
    "c    = 299792458     # [m.s^(-1)] speed of light in vacuum\n",
    "\n",
    "# 2. Propriété de la particule étudiée\n",
    "m = 0.1*me  # [kg] masse (me = masse de l'électron)\n",
    "a  = 5e-9   #    extension spatiale du paquet d'onde                        \n",
    "x0 = -60e-9 # position centrale du pic de probabilité\n",
    "                              \n",
    "# 3. Propriétés de l'espace étudié (puits, maille,...)\n",
    "xMIN = -100e-9 # [m] extension maximale vers la gauche\n",
    "xMAX = -xMIN   # [m] extension maximale vers la droite\n",
    "xNum = 601     #  [-] nombre de valeurs discrétisées de x (résolution) doit être impair\n",
    "max_iter = xNum/2    # nombre d'iterations pas pas de dt\n",
    "\n",
    "# 5 Définitions de constantes internes\n",
    "dx    = (xMAX-xMIN)/(xNum-1) # [m]\n",
    "xArr  = numpy.linspace(xMIN, xMAX, xNum-1)\n",
    "xOnes = [1.0] * (xNum-1)\n"
   ]
  },
  {
   "cell_type": "code",
   "execution_count": 5,
   "metadata": {},
   "outputs": [
    {
     "name": "stdout",
     "output_type": "stream",
     "text": [
      "Choix du potentiel\n",
      " 1. Marche\n",
      " 2. Barrière finie centrée sur x = 0\n",
      " 3. Double barrières finies centrées sur x = 0\n",
      " 4. Potentiel plat\n",
      "Entrez un nombre de 1 à 4: 2\n",
      " 2. Barrière finie centrée sur x = 0\n",
      "Hauteur de la barrière (eV) = 0.2\n",
      "Largeur de la barrière (en nm, max 50 nm)= 10\n"
     ]
    },
    {
     "data": {
      "image/png": "[encoded data removed]",
      "text/plain": [
       "<Figure size 576x576 with 1 Axes>"
      ]
     },
     "metadata": {
      "needs_background": "light"
     },
     "output_type": "display_data"
    }
   ],
   "source": [
    " ####################################################################################\n",
    "\n",
    "#% 1. Choix du potentiel\n",
    "print('Choix du potentiel')\n",
    "print(' 1. Marche')\n",
    "print(' 2. Barrière finie centrée sur x = 0')\n",
    "print(' 3. Double barrières finies centrées sur x = 0')\n",
    "print(' 4. Potentiel plat')\n",
    "\n",
    "\n",
    "idxPot = 1\n",
    "idxPot = int(input(\"Entrez un nombre de 1 à 4: \")) \n",
    "\n",
    "# definition du potentiel\n",
    "if idxPot==1:\n",
    "    print(' 1. Marche')\n",
    "    PotMAX = float(input('Hauteur de la marche (eV) = '))\n",
    "    PotMAX = PotMAX*q\n",
    "    Pot1 = [-PotMAX/2] * int((xNum-1)/2)\n",
    "    Pot2 = [PotMAX/2] * int((xNum-1)/2)\n",
    "    Pot = Pot1 + Pot2\n",
    "elif idxPot==2:\n",
    "    print(' 2. Barrière finie centrée sur x = 0')\n",
    "    PotMAX = float(input('Hauteur de la barrière (eV) = '))\n",
    "    PotMAX = PotMAX*q\n",
    "    Width = float(input('Largeur de la barrière (en nm, max 50 nm)= '))\n",
    "    Width = Width*1e-9\n",
    "    Pot = []\n",
    "    for ii, xx in enumerate(xArr):\n",
    "        if (xx <= - Width/2) or (xx >= Width/2):\n",
    "            Pot.append(0.0)\n",
    "        else:\n",
    "            Pot.append(PotMAX)\n",
    "elif idxPot==3:\n",
    "    print(' 3. Double barrières finies centrées sur x = 0')\n",
    "    PotMAX = float(input('Hauteur des barrières (eV) = '))\n",
    "    PotMAX = PotMAX*q\n",
    "    Width = float(input('Largeur des barrières (en nm, max 25 nm)= '))\n",
    "    Width2 = float(input('Ecart entre les barrières (en nm, max 20 nm)= '))\n",
    "    Width = Width*1e-9\n",
    "    Width2 = Width2*1e-9\n",
    "    Pot = []\n",
    "    for ii, xx in enumerate(xArr):\n",
    "        if (xx <= -(Width+Width2)/2) or (xx > -Width2/2) and (xx < Width2/2) or (xx >= (Width+Width2)/2):\n",
    "            Pot.append(0.0)\n",
    "        else:\n",
    "            Pot.append(PotMAX)   \n",
    "else: \n",
    "    print(' 4. Plat (= puits infini) -- default choice')\n",
    "    PotMAX = 0.3*q\n",
    "    Pot = [0.0] * int(xNum-1)\n",
    "\n",
    "    \n",
    "# affichage du potentiel\n",
    "plt.plot(xArr,numpy.array(Pot)/q,label='Potentiel', color='b')\n",
    "plt.legend(fontsize='x-large')\n",
    "plt.yticks(color='k', size='x-large')\n",
    "plt.xticks(color='k', size='x-large') \n",
    "plt.ylabel('Energy (eV)',fontsize='x-large')\n",
    "plt.xlabel('Distance (m)',fontsize='x-large')\n",
    "plt.xlim((xMIN,xMAX))\n",
    "plt.show()\n",
    "\n"
   ]
  },
  {
   "cell_type": "code",
   "execution_count": 16,
   "metadata": {},
   "outputs": [
    {
     "name": "stdout",
     "output_type": "stream",
     "text": [
      "Energie de particule (% de la hauteur du potentiel ) :0.1\n"
     ]
    }
   ],
   "source": [
    "energie_p = float(input('Energie de particule (% de la hauteur du potentiel ) :'))\n",
    "on_off=True\n",
    "\n",
    "def Schroedinger_Dep(energie_p,PotMAX,Pot,on_off):\n",
    "    \"\"\"\"Args:  \n",
    "            - energie_p: énergie de la particule \n",
    "            - PotMAX: hauteur, \n",
    "            - Pot: potential, \n",
    "            - on_off: calcule les matrices M et L\n",
    "          Return:\n",
    "            - n_Psi2_norm_list: la fonction d'onde normée\"\"\"\n",
    "\n",
    "    #énergie de la particule\n",
    "    E = energie_p*PotMAX\n",
    "    # Fonction d'onde\n",
    "    k0 = math.sqrt(2*m*E)/hb  #  nombre d'onde moyen\n",
    "    # fonction d'onde\n",
    "    Psi = [ (cmath.exp(1j*xx*k0) * cmath.exp(-((xx-x0)/a)**2)) for xx in xArr]\n",
    "    Psi = numpy.array(Psi)\n",
    "    # norme de la fonction d'onde = densité\n",
    "    Psi2 = numpy.conj(Psi)*Psi\n",
    "    # intégration de la densité \n",
    "    \n",
    "    Psi_int = integrate.simps(Psi2, x=xArr)\n",
    "    # normalistation de la densité\n",
    "    Psi2_norm = Psi2 / Psi_int.real\n",
    "    PSIMAX = max(Psi2_norm.real)\n",
    "   \n",
    "    # 4. Déplacement du paquet d'onde\n",
    "    #  Quelques variables\n",
    "    vg   = hb*k0/m       # [m.s^(-1)] vitesse de groupe\n",
    "    tMAX = 3*abs(x0)/vg  # [s]        temps total = 3 fois le tps nécessaire pour parcourir x0 à la vitesse vg\n",
    "    tNum = 1*abs(x0)/dx  # nombre de valeurs discrétisées de t \n",
    "    dt   = tMAX/(tNum-1) # [s]\n",
    "  \n",
    "    \n",
    "    n_Psi2_norm_list = [Psi2_norm/PSIMAX]*xNum\n",
    "    \n",
    "    \n",
    "    if on_off==True:\n",
    "        #  Definition des matrices M et L\n",
    "        n_Psi2_norm_list = []\n",
    "        CI = 4*m*(dx**2)/(hb*dt)\n",
    "        CR = 2*m*(dx**2)/(hb**2)\n",
    "        diagM     = 1j*CI - ( CR * numpy.array(Pot) + 2)\n",
    "        diagL     = 1j*CI + ( CR * numpy.array(Pot) + 2)\n",
    "        diag1 = [1.0] * int(xNum-2)\n",
    "        diag2 = [-1.0] * int(xNum-2)\n",
    "   \n",
    "        matM = numpy.diag(diagM,k=0) + numpy.diag(diag1,k=1) + numpy.diag(diag1,k=-1)\n",
    "        matL = numpy.diag(diagL,k=0) + numpy.diag(diag2,k=1) + numpy.diag(diag2,k=-1)\n",
    "       \n",
    "        matM_inv = numpy.linalg.inv(matM)\n",
    "\n",
    "        n_Psi = Psi\n",
    "        for ii in numpy.arange(1,max_iter):\n",
    "            n_Psi     = numpy.dot(numpy.dot(matM_inv,matL),n_Psi) # nouvelle fonction d'onde\n",
    "            n_Psi2    = numpy.conj(n_Psi)*n_Psi #  Distribution de probabilité\n",
    "            n_Psi_int   = integrate.simps(n_Psi2, x=xArr) # intégration de Simpsons\n",
    "            n_Psi2_norm = n_Psi2 / n_Psi_int.real # normalisation\n",
    "            n_Psi2_norm_list.append(n_Psi2_norm/PSIMAX)\n",
    " \n",
    "    return n_Psi2_norm_list\n",
    " \n",
    "# calcule l'évolution de la fonction d'onde\n",
    "n_Psi2_norm_list = Schroedinger_Dep(energie_p,PotMAX,Pot,on_off)\n",
    "\n",
    "dataframe = pd.DataFrame(n_Psi2_norm_list)\n",
    "dataframe = dataframe.transpose()\n",
    "dataframe['xArr'] = xArr"
   ]
  },
  {
   "cell_type": "code",
   "execution_count": 20,
   "metadata": {},
   "outputs": [
    {
     "data": {
      "image/png": "[encoded data removed]",
      "text/plain": [
       "<Figure size 576x432 with 1 Axes>"
      ]
     },
     "metadata": {},
     "output_type": "display_data"
    }
   ],
   "source": [
    "# Affichage de l'évolution de la fonction d'onde\n",
    "\n",
    "fig = plt.figure()\n",
    "ax = fig.add_subplot(1, 1, 1) \n",
    "\n",
    "for index in dataframe.index[0:dataframe.shape[1]-1]:\n",
    "    ax.cla()\n",
    "    ax.plot(xArr,numpy.array(Pot)/q,label='Potentiel', color='b')\n",
    "    ax.plot(dataframe['xArr'],n_Psi2_norm_list[index], color='g')\n",
    "    ax.set_ylim((0,1))\n",
    "    ax.set_ylabel('Densité de probabilité',fontsize='x-large')\n",
    "    display(fig)\n",
    "    \n",
    "    clear_output(wait = True)\n",
    "    plt.pause(0.02)\n",
    "\n",
    "    \n",
    "\n",
    "\n",
    "    "
   ]
  },
  {
   "cell_type": "code",
   "execution_count": 87,
   "metadata": {},
   "outputs": [],
   "source": []
  },
  {
   "cell_type": "code",
   "execution_count": null,
   "metadata": {},
   "outputs": [],
   "source": []
  }
 ],
 "metadata": {
  "kernelspec": {
   "display_name": "Python 3",
   "language": "python",
   "name": "python3"
  },
  "language_info": {
   "codemirror_mode": {
    "name": "ipython",
    "version": 3
   },
   "file_extension": ".py",
   "mimetype": "text/x-python",
   "name": "python",
   "nbconvert_exporter": "python",
   "pygments_lexer": "ipython3",
   "version": "3.7.3"
  }
 },
 "nbformat": 4,
 "nbformat_minor": 2
}
